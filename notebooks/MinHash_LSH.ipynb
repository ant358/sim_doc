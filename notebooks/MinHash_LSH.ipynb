{
 "cells": [
  {
   "cell_type": "markdown",
   "metadata": {},
   "source": [
    "# A step by step implementation of MinHash and LSH for finding similar documents"
   ]
  },
  {
   "cell_type": "code",
   "execution_count": 35,
   "metadata": {},
   "outputs": [
    {
     "data": {
      "text/html": [
       "<div>\n",
       "<style scoped>\n",
       "    .dataframe tbody tr th:only-of-type {\n",
       "        vertical-align: middle;\n",
       "    }\n",
       "\n",
       "    .dataframe tbody tr th {\n",
       "        vertical-align: top;\n",
       "    }\n",
       "\n",
       "    .dataframe thead th {\n",
       "        text-align: right;\n",
       "    }\n",
       "</style>\n",
       "<table border=\"1\" class=\"dataframe\">\n",
       "  <thead>\n",
       "    <tr style=\"text-align: right;\">\n",
       "      <th></th>\n",
       "      <th>doc_id</th>\n",
       "      <th>text</th>\n",
       "    </tr>\n",
       "  </thead>\n",
       "  <tbody>\n",
       "    <tr>\n",
       "      <th>0</th>\n",
       "      <td>0</td>\n",
       "      <td>Affitto studio a professionisti preferibilment...</td>\n",
       "    </tr>\n",
       "    <tr>\n",
       "      <th>1</th>\n",
       "      <td>1</td>\n",
       "      <td>Privato affitta negozio 169 mq, al piano terra...</td>\n",
       "    </tr>\n",
       "    <tr>\n",
       "      <th>2</th>\n",
       "      <td>2</td>\n",
       "      <td>Negozio c/1 roma tiburtina centro via eugenio ...</td>\n",
       "    </tr>\n",
       "    <tr>\n",
       "      <th>3</th>\n",
       "      <td>3</td>\n",
       "      <td>Studio medico avviato, composto da tre studi c...</td>\n",
       "    </tr>\n",
       "    <tr>\n",
       "      <th>4</th>\n",
       "      <td>4</td>\n",
       "      <td>Donna lavoratrice, non residente, con reddito ...</td>\n",
       "    </tr>\n",
       "  </tbody>\n",
       "</table>\n",
       "</div>"
      ],
      "text/plain": [
       "   doc_id                                               text\n",
       "0       0  Affitto studio a professionisti preferibilment...\n",
       "1       1  Privato affitta negozio 169 mq, al piano terra...\n",
       "2       2  Negozio c/1 roma tiburtina centro via eugenio ...\n",
       "3       3  Studio medico avviato, composto da tre studi c...\n",
       "4       4  Donna lavoratrice, non residente, con reddito ..."
      ]
     },
     "execution_count": 35,
     "metadata": {},
     "output_type": "execute_result"
    }
   ],
   "source": [
    "# load the data\n",
    "import pandas as pd\n",
    "dataset = pd.read_csv('../data/rent_rome_text.csv')\n",
    "dataset[\"doc_id\"] = dataset.index\n",
    "dataset['text'] = dataset['Short Description']\n",
    "dataset = dataset[['doc_id', 'text']].copy()\n",
    "dataset.head()"
   ]
  },
  {
   "cell_type": "code",
   "execution_count": 36,
   "metadata": {},
   "outputs": [
    {
     "data": {
      "text/html": [
       "<div>\n",
       "<style scoped>\n",
       "    .dataframe tbody tr th:only-of-type {\n",
       "        vertical-align: middle;\n",
       "    }\n",
       "\n",
       "    .dataframe tbody tr th {\n",
       "        vertical-align: top;\n",
       "    }\n",
       "\n",
       "    .dataframe thead th {\n",
       "        text-align: right;\n",
       "    }\n",
       "</style>\n",
       "<table border=\"1\" class=\"dataframe\">\n",
       "  <thead>\n",
       "    <tr style=\"text-align: right;\">\n",
       "      <th></th>\n",
       "      <th>doc_id</th>\n",
       "      <th>text</th>\n",
       "    </tr>\n",
       "  </thead>\n",
       "  <tbody>\n",
       "    <tr>\n",
       "      <th>133</th>\n",
       "      <td>133</td>\n",
       "      <td>Privato affitta</td>\n",
       "    </tr>\n",
       "    <tr>\n",
       "      <th>911</th>\n",
       "      <td>911</td>\n",
       "      <td>Avviato studio d</td>\n",
       "    </tr>\n",
       "    <tr>\n",
       "      <th>1923</th>\n",
       "      <td>1923</td>\n",
       "      <td>Avviato studio d</td>\n",
       "    </tr>\n",
       "  </tbody>\n",
       "</table>\n",
       "</div>"
      ],
      "text/plain": [
       "      doc_id              text\n",
       "133      133  Privato affitta \n",
       "911      911  Avviato studio d\n",
       "1923    1923  Avviato studio d"
      ]
     },
     "execution_count": 36,
     "metadata": {},
     "output_type": "execute_result"
    }
   ],
   "source": [
    "# keep two similar rows and one different row\n",
    "dataset = dataset[dataset['doc_id'].isin([911, 1923, 133])].copy()\n",
    "# shorten the text\n",
    "dataset['text'] = dataset['text'].apply(lambda x: x[:16])\n",
    "dataset.head()"
   ]
  },
  {
   "cell_type": "code",
   "execution_count": 59,
   "metadata": {},
   "outputs": [],
   "source": [
    "import hashlib\n",
    "def get_hashed_shingles(shingle, salt_len=20, hash_len=8):\n",
    "    salt = str(0).zfill(salt_len)[-salt_len:].encode('utf-8')\n",
    "    return int(\n",
    "                hashlib.sha1(\n",
    "                    shingle.encode(\"utf-8\") \n",
    "                    + salt).hexdigest()\n",
    "                    [-hash_len:], \n",
    "                16)"
   ]
  },
  {
   "cell_type": "code",
   "execution_count": 72,
   "metadata": {},
   "outputs": [
    {
     "name": "stdout",
     "output_type": "stream",
     "text": [
      "\n",
      "The processed document: \n",
      "\n",
      "privato affitta \n",
      "\n",
      "Number of characters in the document:  16\n",
      "Shingling size:  10\n",
      "Number of shingles:  7\n",
      "['privato af', 'rivato aff', 'ivato affi', 'vato affit', 'ato affitt', 'to affitta', 'o affitta ']\n",
      "hashed shingles:\n",
      "[2729853409, 1978696595, 2833477683, 847371075, 4158715906, 1993375736, 171310880]\n",
      "sorted hashed shingles:\n",
      "[171310880, 847371075, 1978696595, 1993375736, 2729853409, 2833477683, 4158715906]\n",
      "\n",
      "The processed document: \n",
      "\n",
      "avviato studio d\n",
      "\n",
      "Number of characters in the document:  16\n",
      "Shingling size:  10\n",
      "Number of shingles:  7\n",
      "['avviato st', 'vviato stu', 'viato stud', 'iato studi', 'ato studio', 'to studio ', 'o studio d']\n",
      "hashed shingles:\n",
      "[365799992, 2977033780, 2537022184, 602976845, 498592907, 4190303751, 1869341980]\n",
      "sorted hashed shingles:\n",
      "[365799992, 498592907, 602976845, 1869341980, 2537022184, 2977033780, 4190303751]\n",
      "\n",
      "The processed document: \n",
      "\n",
      "avviato studio d\n",
      "\n",
      "Number of characters in the document:  16\n",
      "Shingling size:  10\n",
      "Number of shingles:  7\n",
      "['avviato st', 'vviato stu', 'viato stud', 'iato studi', 'ato studio', 'to studio ', 'o studio d']\n",
      "hashed shingles:\n",
      "[365799992, 2977033780, 2537022184, 602976845, 498592907, 4190303751, 1869341980]\n",
      "sorted hashed shingles:\n",
      "[365799992, 498592907, 602976845, 1869341980, 2537022184, 2977033780, 4190303751]\n"
     ]
    },
    {
     "data": {
      "text/html": [
       "<div>\n",
       "<style scoped>\n",
       "    .dataframe tbody tr th:only-of-type {\n",
       "        vertical-align: middle;\n",
       "    }\n",
       "\n",
       "    .dataframe tbody tr th {\n",
       "        vertical-align: top;\n",
       "    }\n",
       "\n",
       "    .dataframe thead th {\n",
       "        text-align: right;\n",
       "    }\n",
       "</style>\n",
       "<table border=\"1\" class=\"dataframe\">\n",
       "  <thead>\n",
       "    <tr style=\"text-align: right;\">\n",
       "      <th></th>\n",
       "      <th>doc_id</th>\n",
       "      <th>text</th>\n",
       "      <th>hashed_shingles</th>\n",
       "    </tr>\n",
       "  </thead>\n",
       "  <tbody>\n",
       "    <tr>\n",
       "      <th>133</th>\n",
       "      <td>133</td>\n",
       "      <td>Privato affitta</td>\n",
       "      <td>[171310880, 847371075, 1978696595, 1993375736,...</td>\n",
       "    </tr>\n",
       "    <tr>\n",
       "      <th>911</th>\n",
       "      <td>911</td>\n",
       "      <td>Avviato studio d</td>\n",
       "      <td>[365799992, 498592907, 602976845, 1869341980, ...</td>\n",
       "    </tr>\n",
       "    <tr>\n",
       "      <th>1923</th>\n",
       "      <td>1923</td>\n",
       "      <td>Avviato studio d</td>\n",
       "      <td>[365799992, 498592907, 602976845, 1869341980, ...</td>\n",
       "    </tr>\n",
       "  </tbody>\n",
       "</table>\n",
       "</div>"
      ],
      "text/plain": [
       "      doc_id              text  \\\n",
       "133      133  Privato affitta    \n",
       "911      911  Avviato studio d   \n",
       "1923    1923  Avviato studio d   \n",
       "\n",
       "                                        hashed_shingles  \n",
       "133   [171310880, 847371075, 1978696595, 1993375736,...  \n",
       "911   [365799992, 498592907, 602976845, 1869341980, ...  \n",
       "1923  [365799992, 498592907, 602976845, 1869341980, ...  "
      ]
     },
     "execution_count": 72,
     "metadata": {},
     "output_type": "execute_result"
    }
   ],
   "source": [
    "import re\n",
    "# set the shingle size\n",
    "shingle_size = 10\n",
    "resultSize = 8  # how many bytes we want back\n",
    "salt_len = 20  # length of the salt\n",
    "\n",
    "# shingle the text\n",
    "for index, row in dataset.iterrows():\n",
    "    document = row[\"text\"]\n",
    "    # process the text\n",
    "    document = re.sub(\"( )+|(\\n)+\", \" \", document).lower()\n",
    "    print(\"\\nThe processed document: \\n\")\n",
    "    print(document)\n",
    "    print(\"\\nNumber of characters in the document: \", len(document))\n",
    "    print(\"Shingling size: \", shingle_size)\n",
    "    # create the set of shingles\n",
    "    shingles = [\n",
    "        document[i:i + shingle_size]\n",
    "        for i in range(len(document) - shingle_size + 1)\n",
    "    ]\n",
    "    print(\"Number of shingles: \", len(shingles))\n",
    "    print(shingles)\n",
    "    # create the set of hashed shingles\n",
    "    hashed_shingles = [\n",
    "        get_hashed_shingles(shingle, salt_len, resultSize)\n",
    "        for shingle in shingles\n",
    "    ]\n",
    "    print(\"hashed shingles:\")\n",
    "    print(hashed_shingles)\n",
    "    # sort the hashed shingles\n",
    "    hashed_shingles = sorted(hashed_shingles)\n",
    "    print(\"sorted hashed shingles:\")\n",
    "    print(hashed_shingles)\n",
    "    # write the hashed shingles to the dataframe\n",
    "    dataset.loc[index, \"hashed_shingles\"] = str(hashed_shingles)\n",
    "\n",
    "dataset.head()"
   ]
  },
  {
   "cell_type": "markdown",
   "metadata": {},
   "source": [
    "## Creating the hashed shingles"
   ]
  },
  {
   "cell_type": "code",
   "execution_count": 65,
   "metadata": {},
   "outputs": [
    {
     "name": "stdout",
     "output_type": "stream",
     "text": [
      "Salt:  b'00000000000000000000'\n",
      "Hash value:  f990c24df45ea7c1fb50d44073514f3715cdaa38\n",
      "Short hash:  15cdaa38\n",
      "Integer hash:  365799992\n"
     ]
    }
   ],
   "source": [
    "# add a salt to the shingle to increase the randomness\n",
    "# making it less likely to be the same as another shingle hash\n",
    "salt = str(0).zfill(salt_len)[-salt_len:].encode('utf-8')\n",
    "print(\"Salt: \", salt)\n",
    "hash_value = hashlib.sha1(\n",
    "            'avviato st'.encode(\"utf-8\") \n",
    "            + salt).hexdigest()\n",
    "print(\"Hash value: \", hash_value)\n",
    "# 8 hex digits\n",
    "short_hash = hash_value[-resultSize:] \n",
    "print(\"Short hash: \", short_hash)\n",
    "# convert the hex to an integer\n",
    "int_hash = int(short_hash, 16) \n",
    "print(\"Integer hash: \", int_hash)"
   ]
  },
  {
   "cell_type": "markdown",
   "metadata": {},
   "source": [
    "## Compute the signature matrix"
   ]
  },
  {
   "cell_type": "code",
   "execution_count": null,
   "metadata": {},
   "outputs": [],
   "source": [
    "sig_size = 50\n",
    "\n",
    "hash_functions = [hashFamily(randint(0, 10000000000)) for _ in range(sig_size)\n",
    "\n",
    "min(h_funct.get_hash_value(el) for el in set_)\n",
    "for h_funct in self.hash_functions\n"
   ]
  }
 ],
 "metadata": {
  "kernelspec": {
   "display_name": "venv",
   "language": "python",
   "name": "python3"
  },
  "language_info": {
   "codemirror_mode": {
    "name": "ipython",
    "version": 3
   },
   "file_extension": ".py",
   "mimetype": "text/x-python",
   "name": "python",
   "nbconvert_exporter": "python",
   "pygments_lexer": "ipython3",
   "version": "3.11.3"
  }
 },
 "nbformat": 4,
 "nbformat_minor": 2
}
