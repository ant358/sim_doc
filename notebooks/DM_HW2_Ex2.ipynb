{
 "cells": [
  {
   "cell_type": "markdown",
   "metadata": {},
   "source": [
    "\n",
    "<div class=\"text-center\">\n",
    "<h1 class=\"display-1\" >Data Mining </h1>\n",
    "<h3> Homework 2</h3>\n",
    "<h3> Di Santo Nicola - 1853049</h3>\n",
    "From:  \n",
    "https://github.com/nicoDs96/Document-Similarity-using-Python-and-PySpark/blob/master/LSH/DM_HW2_Ex2.ipynb\n",
    "</div>"
   ]
  },
  {
   "cell_type": "markdown",
   "metadata": {},
   "source": [
    "# Exercise 2"
   ]
  },
  {
   "cell_type": "markdown",
   "metadata": {},
   "source": [
    "## Libraries"
   ]
  },
  {
   "cell_type": "code",
   "execution_count": 1,
   "metadata": {},
   "outputs": [],
   "source": [
    "import pandas as pd\n",
    "import re, hashlib, math, time\n",
    "from random import randint, seed\n",
    "seed(1631996)\n"
   ]
  },
  {
   "cell_type": "markdown",
   "metadata": {},
   "source": [
    "## HashFamily\n",
    "The Hash Family is composed by always the same function but different member of the family are given by different salt values (i parameter of the class constructor). The only callable method is <i>get_hash_value</i> that will return the hash value of the element passed as parameter as an integer. "
   ]
  },
  {
   "cell_type": "code",
   "execution_count": 2,
   "metadata": {},
   "outputs": [],
   "source": [
    "class hashFamily:\n",
    "    def __init__(self, i):\n",
    "        self.resultSize = 8 # how many bytes we want back\n",
    "        self.maxLen = 20 # how long can our i be (in decimal)\n",
    "        self.salt = str(i).zfill(self.maxLen)[-self.maxLen:]\n",
    "        \n",
    "    def get_hash_value(self, el_to_hash):\n",
    "        return int(hashlib.sha1(str(el_to_hash).encode('utf-8') + self.salt.encode('utf-8')).hexdigest()[-self.resultSize:], 16)\n",
    "    "
   ]
  },
  {
   "cell_type": "markdown",
   "metadata": {},
   "source": [
    "## Shingling\n",
    "<p>The clas will mantain the k parameter as attribute. Once an object of this class is instaciated it can produce either normal k-shingles or hashed k-shingles of any document passed as parameter. To obtain hashed shingles we must first compute normal shingles and then invoke the method <i>get_hashed_shingles</i> that takes as input a set of shingles instead of a document.</p> \n",
    "<p>An example of usage is: <br>\n",
    "<code>doc = \"Ciao questo é uno documento!                     xd 1111@\\n\\n\\n\\n\\n\\n\\n\\n\\n\\n\\n\\n\\n\\n\"\n",
    "shingler_instance = shingler()\n",
    "shingles_set = shingler_instance.get_shingles(doc)\n",
    "hashed_shingles = shingler_instance.get_hashed_shingles(shingles_set ) </code>\n",
    "\n",
    "or in a more compact way:<br>\n",
    "<code>doc = \"Ciao questo é uno documento!                     xd 1111@\\n\\n\\n\\n\\n\\n\\n\\n\\n\\n\\n\\n\\n\\n\"\n",
    "shingler_instance = shingler()\n",
    "hashed_shingles = shingler_instance.get_hashed_shingles(shingler_instance.get_shingles(doc) ) \n",
    "</code> \n",
    "or:<br>\n",
    "<code>doc = \"Ciao questo é uno documento!                     xd 1111@\\n\\n\\n\\n\\n\\n\\n\\n\\n\\n\\n\\n\\n\\n\"\n",
    "hashed_shingles = shingler().get_hashed_shingles(shingler_instance.get_shingles(doc) ) \n",
    "</code> \n",
    "</p>\n",
    "\n",
    "<p>Before shingling a string some simple normalization is performed: multiple spaces and muliple newlines character are replaced with just one space.</p>"
   ]
  },
  {
   "cell_type": "code",
   "execution_count": 3,
   "metadata": {},
   "outputs": [],
   "source": [
    "class shingler:\n",
    "    def __init__(self, k):\n",
    "        \n",
    "        if k > 0:\n",
    "            self.k = int(k)\n",
    "        else:\n",
    "            self.k = 10\n",
    "        \n",
    "    #inner class utility\n",
    "    def process_doc(self, document):\n",
    "        return re.sub(\"( )+|(\\n)+\",\" \",document).lower()\n",
    "    \n",
    "    def get_shingles(self, document):\n",
    "        shingles = set()\n",
    "        document= self.process_doc(document)\n",
    "        for i in range(0, len(document)-self.k+1 ):\n",
    "            shingles.add(document[i:i+self.k])\n",
    "        return shingles\n",
    "    \n",
    "    def get_k(self):\n",
    "        return self.k\n",
    "    \n",
    "    #return sorted hash\n",
    "    def get_hashed_shingles(self, shingles_set):\n",
    "        hash_function = hashFamily(0)\n",
    "        return sorted( {hash_function.get_hash_value(s) for s in shingles_set} )\n",
    "        "
   ]
  },
  {
   "cell_type": "markdown",
   "metadata": {},
   "source": [
    "## Minhash\n",
    "<p>So here’s how to compute the MinHash signature for a given document. \n",
    "<ol>\n",
    "    <li>Generate n random hash functions $h_1,h_2,...,h_n$.</li> \n",
    "    <li>Take the first hash function, and apply it to all of the shingle values in a document. Find the minimum hash value produced and use it as the first component of the MinHash signature.</li>\n",
    "    <li> Now take the second hash function, and again find the minimum resulting hash value, and use this as the second component. And so on...</li>\n",
    "\n",
    "So if we have 10 random hash functions, we’ll get a MinHash signature with 10 values for each set.\n",
    "We’ll use the same 10 hash functions for every document in the dataset and generate their signatures as well. Then we can compare the documents by counting the number of signature components in which they match.</p>\n",
    "<p>The class implements a method to sign a single set of shinglings (either hashed or not) and then another method that iteratively applies the first method to all the set to produce the signature matrix.</p>\n",
    "<p>Example of usage:<br>\n",
    "    <code>doc = \"Ciao questo é una stringa\"\n",
    "doc2 = \"Ciao questo é un altro documento\"\n",
    "shingler_inst = shingler()        \n",
    "shinglings = shingler_inst.get_shingles(doc) \n",
    "shinglings2 = shingler_inst.get_shingles(doc2)\n",
    "minhash_sig = minhashSigner().compute_signature_matrix([shinglings,shinglings2])\n",
    "</code></p>"
   ]
  },
  {
   "cell_type": "code",
   "execution_count": 4,
   "metadata": {},
   "outputs": [],
   "source": [
    " \n",
    "class minhashSigner:\n",
    "    def __init__(self, sig_size):\n",
    "        self.sig_size=sig_size\n",
    "        self.hash_functions = [hashFamily(randint(0,10000000000)) for i in range(0,sig_size)]\n",
    "    \n",
    "    def compute_set_signature(self, set_):\n",
    "        set_sig = []\n",
    "        for h_funct in self.hash_functions:\n",
    "            min_hash = math.inf\n",
    "            for el in set_:\n",
    "                h = h_funct.get_hash_value(el)\n",
    "                if h < min_hash:\n",
    "                    min_hash = h\n",
    "                \n",
    "            set_sig.append(min_hash)\n",
    "        \n",
    "        return set_sig\n",
    "    \n",
    "    #return a list of lists that can be seen as the signature matrix\n",
    "    def compute_signature_matrix(self, set_list):\n",
    "        signatures = []\n",
    "        for s in set_list:\n",
    "            signatures.append( self.compute_set_signature(s) )\n",
    "            \n",
    "        return signatures\n",
    "    "
   ]
  },
  {
   "cell_type": "markdown",
   "metadata": {},
   "source": [
    "   ## LSH (Locality Sensitive Hashing)\n",
    "   <p>The class performs the following tasks:<ol>\n",
    "    <li>Divide signature matrix into bands with <code>get_signature_matrix_bands(sig_matrix, bands_nr, sign_len)</code>. The method will return a list of string where each string represent a column of the signature matrix for the given band. It is done to hash the entire column next, when producing buckets. </li>\n",
    "    <li>Compute buckets for each band with <code>get_band_buckets(band, hash_funct)</code>, that will take as input a band b and an hash function h and will return a dict containing as key the bucket ids and as value a list of document ids that hashed to that bucket for the given band b: $\\{bucket_{id}: [doc_i, doc_k,...]\\}$ .</li>\n",
    "    <li>With <code>get_candidates_list(buckets)</code> we are going to take as input a list of buckets (whose union is the signature matrix) and will produce as output a set of tuples: those tuples represent documents that hashed in the same bucket.</li>\n",
    "    <li>With <code>check_candidates(candidates_list, threshold, sigs)</code> we take all the candidates from all the bands and check if effectively their signatures produce a match with approximate jaccard similarity greater than threshold we give as parameter.</li>\n",
    "<li>With <code>get_similar_items(sig_matrix, bands_nr, sign_len)</code> we put toghether all the methods listed above and return the ids of similar documents that respect threshold value.</li></ol>\n",
    "</p><p>The similarity threshold is passed as value to the constructor of the class, default is $0.8$.</p>\n",
    "<p>Example of usage:<br>\n",
    "<code>shingler_inst = shingler(10)\n",
    "doc = \"Ciao questa é una stringa NMVKJHFVSAh skjdg;sabdks\"\n",
    "shinglings = shingler_inst.get_shingles(doc) \n",
    "shinglings = shingler_inst.get_hashed_shingles(shinglings)\n",
    "\n",
    "doc2 = \"asbdkjasjcbsdakvfk.sdjB  Ciao questo a una stringa un po' diversa aaaaaaaa\"\n",
    "shingle2 = shingler_inst.get_shingles(doc2)\n",
    "shingle2 = shingler_inst.get_hashed_shingles(shingle2)\n",
    "\n",
    "doc3 = \"bbbbbbbbbbbbbaaaaaaa Ciao questo é una stringa un po' diversa \"\n",
    "shingle3 = shingler_inst.get_shingles(doc3)\n",
    "shingle3 = shingler_inst.get_hashed_shingles(shingle3)\n",
    "\n",
    "signer = minhashSigner(100)\n",
    "signature_matrix = signer.compute_signature_matrix([shinglings,shingle2,shingle3])\n",
    "\n",
    "lsh_instance = lsh()\n",
    "bands = lsh_instance.get_signature_matrix_bands(signature_matrix,10,100) # bands b=10, signature length n=100\n",
    "similar_docs = set()\n",
    "for band_id, elements in bands.items():\n",
    "    buckets = lsh_instance.get_band_buckets(elements, hash_funct=hashFamily(1))\n",
    "    candidates = lsh_instance.get_candidates_list(buckets)\n",
    "    for sim_tuple in lsh_instance.check_candidates(candidates, 0.8, minhash_sigs):\n",
    "        similar_docs.add( sim_tuple)    \n",
    "print(similar_docs)\n",
    "</code>\n",
    "or compact:<br>\n",
    "<code>signer = minhashSigner(100)\n",
    "signature_matrix = signer.compute_signature_matrix([shinglings,shingle2,shingle3])\n",
    "lsh_instance.get_similar_items(minhash_sigs,10,100)</code></p>"
   ]
  },
  {
   "cell_type": "code",
   "execution_count": 5,
   "metadata": {},
   "outputs": [],
   "source": [
    "class lsh:\n",
    "    def __init__(self, threshold=0.8):\n",
    "        self.threshold = threshold\n",
    "        \n",
    "    def get_signature_matrix_bands(self, sig_matrix, bands_nr, sign_len): \n",
    "        #bands_nr = b\n",
    "        #sign_len = n\n",
    "        r = int(sign_len/bands_nr) #number of rows in each band\n",
    "        bands = {} # {band_nr: [col_1,col_2,...]} where col_1 is all the values of Sig(S_i) for band b.\n",
    "        for i in range(0,bands_nr):\n",
    "            bands[i] = []\n",
    "        \n",
    "        # put Subsets of the columns of signature matrix into the appropriate bucket and cosider a column \n",
    "        # as a unique block so that we can hash the entire column.\n",
    "        # Basically a band is a list of element, where each element is a subset of a signature of a given set.\n",
    "        for signature in sig_matrix: \n",
    "            \n",
    "            for i in range(0, bands_nr):\n",
    "                idx = i*r    \n",
    "                bands[i].append(' '.join(str(x) for x in signature[idx:idx+r]) ) \n",
    "                    \n",
    "        return bands\n",
    "\n",
    "    #band is a list \n",
    "    # construct a dictionary {hash(band_column): doc_id that produced this hash}\n",
    "    def get_band_buckets(self, band, hash_funct):\n",
    "        buckets = {}\n",
    "        for doc_id in range(0,len(band)):\n",
    "            value = hash_funct.get_hash_value( band[doc_id] )\n",
    "            if value not in buckets:\n",
    "                buckets[value] = [doc_id]\n",
    "            else:\n",
    "                 buckets[value].append(doc_id)\n",
    "                \n",
    "        return buckets\n",
    "    \n",
    "    def get_candidates_list(self, buckets):\n",
    "        candidates = set()\n",
    "        # buckets is a dictionary containing key=bucket, value= list of doc_ids that hashed to bucket\n",
    "        for bucket,candidate_list in buckets.items():\n",
    "            if len(candidate_list) > 1:\n",
    "                for i in range(0,len(candidate_list)-1):\n",
    "                    for j in range(i+1,len(candidate_list)):  \n",
    "                        pair = tuple(sorted( (candidate_list[i],candidate_list[j]) ))\n",
    "                        candidates.add(pair)\n",
    "                \n",
    "        return candidates #ie a set of couples, each couple is a candidate pair\n",
    "    \n",
    "    def check_candidates(self, candidates_list, threshold, sigs):\n",
    "        similar_docs = set() #set of tuples\n",
    "        # similar_pair is a couple containing doc_ids of documents that hashed to same bucket\n",
    "        for  similar_pair in candidates_list:\n",
    "            #for all the pairs of document in the list check similarity of their signatures\n",
    "            doc_id_1 = similar_pair[0]\n",
    "            doc_id_2 = similar_pair[1]\n",
    "            signature_1 = set(sigs[doc_id_1]) #get the i-th column from signature matrix where i is doc_id in the collision list\n",
    "            signature_2 = set(sigs[doc_id_2])\n",
    "            js = len(signature_1.intersection(signature_2)) /len(signature_1.union(signature_2))\n",
    "            \n",
    "            if js >= threshold:\n",
    "                similar_docs.add( tuple(sorted((doc_id_1,doc_id_2) )) )\n",
    "                        \n",
    "                        \n",
    "        return similar_docs\n",
    "    \n",
    "    def get_similar_items(self, sig_matrix, bands_nr, sign_len):\n",
    "        similar_docs = set()\n",
    "        #divide signature matrix into bands\n",
    "        bands = lsh_instance.get_signature_matrix_bands(sig_matrix,bands_nr,sign_len)\n",
    "        \n",
    "        #for all the bands\n",
    "        for band_id, elements in bands.items():\n",
    "            #produce the buckets for the given band (band_id) with a random hash function\n",
    "            buckets = lsh_instance.get_band_buckets(elements, hash_funct=hashFamily(randint(0,10000000000)))\n",
    "            #Get all the candidate pairs\n",
    "            candidates = lsh_instance.get_candidates_list(buckets)\n",
    "            #Check all candidate pairs' signatures\n",
    "            for sim_tuple in lsh_instance.check_candidates(candidates, self.threshold, sig_matrix):\n",
    "                similar_docs.add( sim_tuple)\n",
    "\n",
    "        return similar_docs #return all the similar signatures that respect the threshold\n",
    "                \n",
    "        "
   ]
  },
  {
   "cell_type": "markdown",
   "metadata": {},
   "source": [
    "## Bruteforce Shingles Comparison"
   ]
  },
  {
   "cell_type": "code",
   "execution_count": 6,
   "metadata": {},
   "outputs": [],
   "source": [
    "class bfsc():\n",
    "    def compare_shingles_set_js(self, set1, set2):\n",
    "        return len(set1.intersection(set2))/len(set1.union(set2))"
   ]
  },
  {
   "cell_type": "markdown",
   "metadata": {},
   "source": [
    "## Test on Kijiji Dataset"
   ]
  },
  {
   "cell_type": "code",
   "execution_count": 8,
   "metadata": {},
   "outputs": [
    {
     "name": "stdout",
     "output_type": "stream",
     "text": [
      "Loading dataset...\n",
      "Dataset loaded correctly.\n",
      "Producing Shingles...\n",
      "Shingles produced in:\t 1.57 seconds.\n",
      "Computing signature matrix...\n",
      "Signature Matrix computed in:\t 43.25 seconds.\n"
     ]
    }
   ],
   "source": [
    "print(\"Loading dataset...\")\n",
    "dataset=pd.read_csv(\"../data/dataset_rent_rome_kijiji.tsv\", sep=\"\\t\")\n",
    "dataset['doc_id']=dataset.index\n",
    "doc_nr = dataset['doc_id'].max()\n",
    "print(\"Dataset loaded correctly.\")\n",
    "print(\"Producing Shingles...\")\n",
    "start_time = time.time()\n",
    "#an array where the index i represent the document_id and the element shingling_list[i] the hashed shingles for document document_id\n",
    "shingling_list = [None] * (doc_nr +1) \n",
    "shingling_size = 10\n",
    "signature_size = 50\n",
    "bands_nr = 10\n",
    "\n",
    "shingler_inst = shingler(shingling_size)\n",
    "signer = minhashSigner(signature_size)\n",
    "\n",
    "\n",
    "#produce hashed shinglings for all documents\n",
    "for index, row in dataset.iterrows():\n",
    "    doc = row['Title']+\" \"+row['Short Description']\n",
    "    i = row['doc_id']\n",
    "    \n",
    "    shinglings = shingler_inst.get_hashed_shingles( shingler_inst.get_shingles(doc) )\n",
    "    shingling_list[i] = shinglings\n",
    "\n",
    "end_time = time.time()\n",
    "print(\"Shingles produced in:\\t %.2f seconds.\"%(end_time - start_time))\n",
    "\n",
    "\n",
    "start_time = time.time()\n",
    "print(\"Computing signature matrix...\")\n",
    "#produce a signature for each shingle set\n",
    "signature_matrix = signer.compute_signature_matrix( shingling_list )\n",
    "end_time = time.time()\n",
    "print(\"Signature Matrix computed in:\\t %.2f seconds.\" %(end_time - start_time))\n",
    "\n",
    "\n",
    "\n"
   ]
  },
  {
   "cell_type": "code",
   "execution_count": 9,
   "metadata": {},
   "outputs": [
    {
     "name": "stdout",
     "output_type": "stream",
     "text": [
      "Computing LSH similarity...\n",
      "LSH Similarity computed in:\t 0.73 seconds.\n",
      "Similar Elements Found: 10296\n"
     ]
    }
   ],
   "source": [
    "lsh_instance = lsh(threshold=0.8)\n",
    "start_time = time.time()\n",
    "print(\"Computing LSH similarity...\")\n",
    "lsh_similar_itemset = lsh_instance.get_similar_items(signature_matrix, bands_nr, signature_size)\n",
    "end_time = time.time()\n",
    "lsh_computation_time = end_time - start_time\n",
    "print(\"LSH Similarity computed in:\\t %.2f seconds.\\nSimilar Elements Found: %d\" %(lsh_computation_time,len(lsh_similar_itemset)))\n"
   ]
  },
  {
   "cell_type": "markdown",
   "metadata": {},
   "source": [
    "### Bruteforce Comparison"
   ]
  },
  {
   "cell_type": "code",
   "execution_count": 10,
   "metadata": {},
   "outputs": [],
   "source": [
    "#computing only for elements into similarity set \n",
    "brute_force_comparer = bfsc()\n",
    "brute_force_similar_items = set()\n",
    "start_time = time.time()\n",
    "false_positive = 0\n",
    "\n",
    "#for couple in lsh_similar_itemset:\n",
    "#    i = couple[0]\n",
    "#    j = couple[1]\n",
    "#    similarity = brute_force_comparer.compare_shingles_set_js(set(shingling_list[i]),set(shingling_list[j]))\n",
    "#    if similarity >= 0.8:\n",
    "#        brute_force_similar_items.add( (i,j) )\n",
    "#    else:\n",
    "        #print(\"Document %d and %d have only %f of similarity.\"%(i,j,similarity))\n",
    "#        false_positive = false_positive+1\n",
    "\n",
    "#print(\"Brute Force Similarity Tooks:\\t%f seconds\\nDetected %d False Positives on %d\\nSimilar docs are:\\t%s\"%(bf_computation_time, false_positive,len(lsh_similar_itemset),brute_force_similar_items))\n",
    "\n",
    "\n",
    "for i in range(0,doc_nr-1):\n",
    "    for j in range(i+1,doc_nr):\n",
    "        similarity = brute_force_comparer.compare_shingles_set_js(set(shingling_list[i]),set(shingling_list[j]))\n",
    "        if similarity >= 0.8:\n",
    "            brute_force_similar_items.add( (i,j) ) \n",
    "            \n",
    "end_time = time.time()\n",
    "bf_computation_time = end_time - start_time      \n",
    "\n",
    "\n",
    "#print(\"Brute Force Similarity Tooks:\\t%.2f seconds\\nSimilar docs are:\\t%d\"%(bf_computation_time, brute_force_similar_items))\n"
   ]
  },
  {
   "cell_type": "markdown",
   "metadata": {},
   "source": [
    "## Example 1\n",
    "Similar document with bruteforce search"
   ]
  },
  {
   "cell_type": "code",
   "execution_count": 11,
   "metadata": {},
   "outputs": [
    {
     "name": "stdout",
     "output_type": "stream",
     "text": [
      "Doc 1:\n",
      "Title                                     Centro storico appartamento \n",
      "Short Description    In Via XX Settembre in stabile d''epoca con se...\n",
      "Location                                                         Roma \n",
      "Price (Euro)                                                    3.670 \n",
      "Timestamp                                              2 marzo, 02:05 \n",
      "Url Adv              https://www.kijiji.it/annunci/affitto/roma-ann...\n",
      "doc_id                                                            2272\n",
      "Name: 2272, dtype: object\n",
      "Is similar to\n",
      "Doc2:\n",
      "Title                                     Centro storico appartamento \n",
      "Short Description    In Via XX Settembre in stabile d''epoca con se...\n",
      "Location                                                         Roma \n",
      "Price (Euro)                                                    3.670 \n",
      "Timestamp                                          17 febbraio, 02:00 \n",
      "Url Adv              https://www.kijiji.it/annunci/affitto/roma-ann...\n",
      "doc_id                                                            2378\n",
      "Name: 2378, dtype: object\n",
      "Doc 1:\n",
      "Title                Avviato studio psicologia mette a disposizione...\n",
      "Short Description    Avviato studio di psicologia mette a disposizi...\n",
      "Location                                               Centro Storico \n",
      "Price (Euro)                                                      110 \n",
      "Timestamp                                            9 ottobre, 18:01 \n",
      "Url Adv              https://www.kijiji.it/annunci/stanze-e-posti-l...\n",
      "doc_id                                                             484\n",
      "Name: 484, dtype: object\n",
      "Is similar to\n",
      "Doc2:\n",
      "Title                Avviato studio psicologia mette a disposizione...\n",
      "Short Description    Avviato studio di psicologia mette a disposizi...\n",
      "Location                                               Centro Storico \n",
      "Price (Euro)                                                      110 \n",
      "Timestamp                                            9 ottobre, 18:01 \n",
      "Url Adv              https://www.kijiji.it/annunci/stanze-e-posti-l...\n",
      "doc_id                                                            1659\n",
      "Name: 1659, dtype: object\n",
      "Doc 1:\n",
      "Title                Studio accessoriato vicino metro A Furio Camillo \n",
      "Short Description    Affitto studio a professionisti preferibilment...\n",
      "Location                                                         Roma \n",
      "Price (Euro)                                                      450 \n",
      "Timestamp                                           12 ottobre, 11:32 \n",
      "Url Adv              https://www.kijiji.it/annunci/affitto/roma-ann...\n",
      "doc_id                                                             735\n",
      "Name: 735, dtype: object\n",
      "Is similar to\n",
      "Doc2:\n",
      "Title                Studio accessoriato vicino metro A Furio Camillo \n",
      "Short Description    Affitto studio a professionisti preferibilment...\n",
      "Location                                                         Roma \n",
      "Price (Euro)                                                      450 \n",
      "Timestamp                                           12 ottobre, 11:32 \n",
      "Url Adv              https://www.kijiji.it/annunci/affitto/roma-ann...\n",
      "doc_id                                                            1241\n",
      "Name: 1241, dtype: object\n"
     ]
    }
   ],
   "source": [
    "for i in range(0,3):\n",
    "    docs = brute_force_similar_items.pop()\n",
    "    print(\"Doc 1:\")\n",
    "    print(dataset.iloc[docs[0]] )\n",
    "    print(\"Is similar to\\nDoc2:\")\n",
    "    print(dataset.iloc[docs[1]] )\n"
   ]
  },
  {
   "cell_type": "markdown",
   "metadata": {},
   "source": [
    "## Example 2\n",
    "Similar items with LSH"
   ]
  },
  {
   "cell_type": "code",
   "execution_count": 12,
   "metadata": {},
   "outputs": [
    {
     "name": "stdout",
     "output_type": "stream",
     "text": [
      "Doc 1:\n",
      "Title                                     Centro storico appartamento \n",
      "Short Description    In Via XX Settembre in stabile d''epoca con se...\n",
      "Location                                                         Roma \n",
      "Price (Euro)                                                    3.670 \n",
      "Timestamp                                              2 marzo, 02:05 \n",
      "Url Adv              https://www.kijiji.it/annunci/affitto/roma-ann...\n",
      "doc_id                                                            2272\n",
      "Name: 2272, dtype: object\n",
      "Is similar to\n",
      "Doc2:\n",
      "Title                                     Centro storico appartamento \n",
      "Short Description    In Via XX Settembre in stabile d''epoca con se...\n",
      "Location                                                         Roma \n",
      "Price (Euro)                                                    3.670 \n",
      "Timestamp                                          17 febbraio, 02:00 \n",
      "Url Adv              https://www.kijiji.it/annunci/affitto/roma-ann...\n",
      "doc_id                                                            2378\n",
      "Name: 2378, dtype: object\n",
      "Doc 1:\n",
      "Title                Avviato studio psicologia mette a disposizione...\n",
      "Short Description    Avviato studio di psicologia mette a disposizi...\n",
      "Location                                               Centro Storico \n",
      "Price (Euro)                                                      110 \n",
      "Timestamp                                            9 ottobre, 18:01 \n",
      "Url Adv              https://www.kijiji.it/annunci/stanze-e-posti-l...\n",
      "doc_id                                                             484\n",
      "Name: 484, dtype: object\n",
      "Is similar to\n",
      "Doc2:\n",
      "Title                Avviato studio psicologia mette a disposizione...\n",
      "Short Description    Avviato studio di psicologia mette a disposizi...\n",
      "Location                                               Centro Storico \n",
      "Price (Euro)                                                      110 \n",
      "Timestamp                                            9 ottobre, 18:01 \n",
      "Url Adv              https://www.kijiji.it/annunci/stanze-e-posti-l...\n",
      "doc_id                                                            1659\n",
      "Name: 1659, dtype: object\n",
      "Doc 1:\n",
      "Title                Studio accessoriato vicino metro A Furio Camillo \n",
      "Short Description    Affitto studio a professionisti preferibilment...\n",
      "Location                                                         Roma \n",
      "Price (Euro)                                                      450 \n",
      "Timestamp                                           12 ottobre, 11:32 \n",
      "Url Adv              https://www.kijiji.it/annunci/affitto/roma-ann...\n",
      "doc_id                                                             735\n",
      "Name: 735, dtype: object\n",
      "Is similar to\n",
      "Doc2:\n",
      "Title                Studio accessoriato vicino metro A Furio Camillo \n",
      "Short Description    Affitto studio a professionisti preferibilment...\n",
      "Location                                                         Roma \n",
      "Price (Euro)                                                      450 \n",
      "Timestamp                                           12 ottobre, 11:32 \n",
      "Url Adv              https://www.kijiji.it/annunci/affitto/roma-ann...\n",
      "doc_id                                                            1241\n",
      "Name: 1241, dtype: object\n"
     ]
    }
   ],
   "source": [
    "for i in range(0,3):\n",
    "    docs = lsh_similar_itemset.pop()\n",
    "    print(\"Doc 1:\")\n",
    "    print(dataset.iloc[docs[0]] )\n",
    "    print(\"Is similar to\\nDoc2:\")\n",
    "    print(dataset.iloc[docs[1]] )"
   ]
  },
  {
   "cell_type": "markdown",
   "metadata": {},
   "source": [
    "## Execution Report"
   ]
  },
  {
   "cell_type": "code",
   "execution_count": 13,
   "metadata": {},
   "outputs": [
    {
     "name": "stdout",
     "output_type": "stream",
     "text": [
      "LSH\n",
      "0.73 seconds to execute\n",
      "10293 similar documents found\n",
      "\n",
      "Bruteforce search\n",
      "213.02 seconds to execute\n",
      "10355 similar documents found.\n",
      "\n",
      "They find 10291 common similarities.\n",
      "\n"
     ]
    }
   ],
   "source": [
    "report = '''LSH\\n%.2f seconds to execute\\n%d similar documents found\\n\\nBruteforce search\\n%.2f seconds to execute\\n%d similar documents found.\\n\\nThey find %d common similarities.\n",
    "'''\n",
    "\n",
    "print(report %(lsh_computation_time, len(lsh_similar_itemset),bf_computation_time,len(brute_force_similar_items),len(brute_force_similar_items.intersection(lsh_similar_itemset)) ))"
   ]
  },
  {
   "cell_type": "markdown",
   "metadata": {},
   "source": [
    "## Ant additional cells from orginal notebook"
   ]
  },
  {
   "cell_type": "code",
   "execution_count": 14,
   "metadata": {},
   "outputs": [
    {
     "data": {
      "text/html": [
       "<div>\n",
       "<style scoped>\n",
       "    .dataframe tbody tr th:only-of-type {\n",
       "        vertical-align: middle;\n",
       "    }\n",
       "\n",
       "    .dataframe tbody tr th {\n",
       "        vertical-align: top;\n",
       "    }\n",
       "\n",
       "    .dataframe thead th {\n",
       "        text-align: right;\n",
       "    }\n",
       "</style>\n",
       "<table border=\"1\" class=\"dataframe\">\n",
       "  <thead>\n",
       "    <tr style=\"text-align: right;\">\n",
       "      <th></th>\n",
       "      <th>Title</th>\n",
       "      <th>Short Description</th>\n",
       "      <th>Location</th>\n",
       "      <th>Price (Euro)</th>\n",
       "      <th>Timestamp</th>\n",
       "      <th>Url Adv</th>\n",
       "      <th>doc_id</th>\n",
       "    </tr>\n",
       "  </thead>\n",
       "  <tbody>\n",
       "    <tr>\n",
       "      <th>0</th>\n",
       "      <td>Studio accessoriato vicino metro A Furio Camillo</td>\n",
       "      <td>Affitto studio a professionisti preferibilment...</td>\n",
       "      <td>Roma</td>\n",
       "      <td>450</td>\n",
       "      <td>12 ottobre, 11:32</td>\n",
       "      <td>https://www.kijiji.it/annunci/affitto/roma-ann...</td>\n",
       "      <td>0</td>\n",
       "    </tr>\n",
       "    <tr>\n",
       "      <th>1</th>\n",
       "      <td>Negozio 169Mq per laboratorio, ufficio, studio...</td>\n",
       "      <td>Privato affitta negozio 169 mq, al piano terra...</td>\n",
       "      <td>Prenestino / Casilino</td>\n",
       "      <td>1.700</td>\n",
       "      <td>12 ottobre, 08:45</td>\n",
       "      <td>https://www.kijiji.it/annunci/affitto/roma-ann...</td>\n",
       "      <td>1</td>\n",
       "    </tr>\n",
       "    <tr>\n",
       "      <th>2</th>\n",
       "      <td>Negozio in tiburtina centro</td>\n",
       "      <td>Negozio c/1 roma tiburtina centro via eugenio ...</td>\n",
       "      <td>Tiburtino / Collatino</td>\n",
       "      <td>6.000</td>\n",
       "      <td>17 October, 21:20</td>\n",
       "      <td>https://www.kijiji.it/annunci/affitto/roma-ann...</td>\n",
       "      <td>2</td>\n",
       "    </tr>\n",
       "    <tr>\n",
       "      <th>3</th>\n",
       "      <td>Studio medico via anapo parco nemorense</td>\n",
       "      <td>Studio medico avviato, composto da tre studi c...</td>\n",
       "      <td>Trieste / Somalia / Salario</td>\n",
       "      <td>200</td>\n",
       "      <td>17 October, 20:22</td>\n",
       "      <td>https://www.kijiji.it/annunci/affitto/roma-ann...</td>\n",
       "      <td>3</td>\n",
       "    </tr>\n",
       "    <tr>\n",
       "      <th>4</th>\n",
       "      <td>Cerco: Appartamento per donna lavoratrice refe...</td>\n",
       "      <td>Donna lavoratrice, non residente, con reddito ...</td>\n",
       "      <td>Roma</td>\n",
       "      <td>Contatta l'utente</td>\n",
       "      <td>17 October, 19:39</td>\n",
       "      <td>https://www.kijiji.it/annunci/affitto/roma-ann...</td>\n",
       "      <td>4</td>\n",
       "    </tr>\n",
       "  </tbody>\n",
       "</table>\n",
       "</div>"
      ],
      "text/plain": [
       "                                               Title  \\\n",
       "0  Studio accessoriato vicino metro A Furio Camillo    \n",
       "1  Negozio 169Mq per laboratorio, ufficio, studio...   \n",
       "2                       Negozio in tiburtina centro    \n",
       "3           Studio medico via anapo parco nemorense    \n",
       "4  Cerco: Appartamento per donna lavoratrice refe...   \n",
       "\n",
       "                                   Short Description  \\\n",
       "0  Affitto studio a professionisti preferibilment...   \n",
       "1  Privato affitta negozio 169 mq, al piano terra...   \n",
       "2  Negozio c/1 roma tiburtina centro via eugenio ...   \n",
       "3  Studio medico avviato, composto da tre studi c...   \n",
       "4  Donna lavoratrice, non residente, con reddito ...   \n",
       "\n",
       "                       Location        Price (Euro)            Timestamp  \\\n",
       "0                         Roma                 450    12 ottobre, 11:32    \n",
       "1        Prenestino / Casilino               1.700    12 ottobre, 08:45    \n",
       "2        Tiburtino / Collatino               6.000    17 October, 21:20    \n",
       "3  Trieste / Somalia / Salario                 200    17 October, 20:22    \n",
       "4                         Roma   Contatta l'utente    17 October, 19:39    \n",
       "\n",
       "                                             Url Adv  doc_id  \n",
       "0  https://www.kijiji.it/annunci/affitto/roma-ann...       0  \n",
       "1  https://www.kijiji.it/annunci/affitto/roma-ann...       1  \n",
       "2  https://www.kijiji.it/annunci/affitto/roma-ann...       2  \n",
       "3  https://www.kijiji.it/annunci/affitto/roma-ann...       3  \n",
       "4  https://www.kijiji.it/annunci/affitto/roma-ann...       4  "
      ]
     },
     "execution_count": 14,
     "metadata": {},
     "output_type": "execute_result"
    }
   ],
   "source": [
    "dataset.head()"
   ]
  },
  {
   "cell_type": "code",
   "execution_count": 15,
   "metadata": {},
   "outputs": [
    {
     "name": "stdout",
     "output_type": "stream",
     "text": [
      "<class 'pandas.core.frame.DataFrame'>\n",
      "RangeIndex: 2627 entries, 0 to 2626\n",
      "Data columns (total 7 columns):\n",
      " #   Column             Non-Null Count  Dtype \n",
      "---  ------             --------------  ----- \n",
      " 0   Title              2627 non-null   object\n",
      " 1   Short Description  2627 non-null   object\n",
      " 2   Location           2627 non-null   object\n",
      " 3   Price (Euro)       2627 non-null   object\n",
      " 4   Timestamp          2627 non-null   object\n",
      " 5   Url Adv            2627 non-null   object\n",
      " 6   doc_id             2627 non-null   int64 \n",
      "dtypes: int64(1), object(6)\n",
      "memory usage: 143.8+ KB\n"
     ]
    }
   ],
   "source": [
    "dataset.info()"
   ]
  },
  {
   "cell_type": "code",
   "execution_count": 18,
   "metadata": {},
   "outputs": [
    {
     "data": {
      "text/plain": [
       "(485, 1066)"
      ]
     },
     "execution_count": 18,
     "metadata": {},
     "output_type": "execute_result"
    }
   ],
   "source": [
    "lsh_similar_itemset.pop()"
   ]
  },
  {
   "cell_type": "code",
   "execution_count": 19,
   "metadata": {},
   "outputs": [
    {
     "data": {
      "text/plain": [
       "Title                 Negozi C1 in via Caianello, Roma.38/43/50/67Mq. \n",
       "Short Description    Privato affitta negozi vari tagli in via Caian...\n",
       "Location                                        Prenestino / Casilino \n",
       "Price (Euro)                                                      650 \n",
       "Timestamp                                         23 settembre, 06:35 \n",
       "Url Adv              https://www.kijiji.it/annunci/affitto/roma-ann...\n",
       "doc_id                                                             485\n",
       "Name: 485, dtype: object"
      ]
     },
     "execution_count": 19,
     "metadata": {},
     "output_type": "execute_result"
    }
   ],
   "source": [
    "dataset.iloc[485]"
   ]
  },
  {
   "cell_type": "code",
   "execution_count": 20,
   "metadata": {},
   "outputs": [
    {
     "data": {
      "text/plain": [
       "Title                 Negozi C1 in via Caianello, Roma.38/43/50/67Mq. \n",
       "Short Description    Privato affitta negozi vari tagli in via Caian...\n",
       "Location                                        Prenestino / Casilino \n",
       "Price (Euro)                                                      650 \n",
       "Timestamp                                         23 settembre, 06:35 \n",
       "Url Adv              https://www.kijiji.it/annunci/affitto/roma-ann...\n",
       "doc_id                                                            1066\n",
       "Name: 1066, dtype: object"
      ]
     },
     "execution_count": 20,
     "metadata": {},
     "output_type": "execute_result"
    }
   ],
   "source": [
    "dataset.iloc[1066]"
   ]
  },
  {
   "cell_type": "code",
   "execution_count": 33,
   "metadata": {},
   "outputs": [
    {
     "data": {
      "text/html": [
       "<div>\n",
       "<style scoped>\n",
       "    .dataframe tbody tr th:only-of-type {\n",
       "        vertical-align: middle;\n",
       "    }\n",
       "\n",
       "    .dataframe tbody tr th {\n",
       "        vertical-align: top;\n",
       "    }\n",
       "\n",
       "    .dataframe thead th {\n",
       "        text-align: right;\n",
       "    }\n",
       "</style>\n",
       "<table border=\"1\" class=\"dataframe\">\n",
       "  <thead>\n",
       "    <tr style=\"text-align: right;\">\n",
       "      <th></th>\n",
       "      <th>Title</th>\n",
       "      <th>Short Description</th>\n",
       "      <th>Location</th>\n",
       "      <th>Price (Euro)</th>\n",
       "      <th>Timestamp</th>\n",
       "      <th>Url Adv</th>\n",
       "      <th>doc_id</th>\n",
       "      <th>similar_docs</th>\n",
       "    </tr>\n",
       "  </thead>\n",
       "  <tbody>\n",
       "    <tr>\n",
       "      <th>0</th>\n",
       "      <td>Studio accessoriato vicino metro A Furio Camillo</td>\n",
       "      <td>Affitto studio a professionisti preferibilment...</td>\n",
       "      <td>Roma</td>\n",
       "      <td>450</td>\n",
       "      <td>12 ottobre, 11:32</td>\n",
       "      <td>https://www.kijiji.it/annunci/affitto/roma-ann...</td>\n",
       "      <td>0</td>\n",
       "      <td>{0, 2561, 1153, 647, 1417, 2187, 779, 2319, 10...</td>\n",
       "    </tr>\n",
       "    <tr>\n",
       "      <th>1</th>\n",
       "      <td>Negozio 169Mq per laboratorio, ufficio, studio...</td>\n",
       "      <td>Privato affitta negozio 169 mq, al piano terra...</td>\n",
       "      <td>Prenestino / Casilino</td>\n",
       "      <td>1.700</td>\n",
       "      <td>12 ottobre, 08:45</td>\n",
       "      <td>https://www.kijiji.it/annunci/affitto/roma-ann...</td>\n",
       "      <td>1</td>\n",
       "      <td>{1, 1154, 2562, 648, 1418, 266, 780, 2188, 232...</td>\n",
       "    </tr>\n",
       "    <tr>\n",
       "      <th>2</th>\n",
       "      <td>Negozio in tiburtina centro</td>\n",
       "      <td>Negozio c/1 roma tiburtina centro via eugenio ...</td>\n",
       "      <td>Tiburtino / Collatino</td>\n",
       "      <td>6.000</td>\n",
       "      <td>17 October, 21:20</td>\n",
       "      <td>https://www.kijiji.it/annunci/affitto/roma-ann...</td>\n",
       "      <td>2</td>\n",
       "      <td>{}</td>\n",
       "    </tr>\n",
       "    <tr>\n",
       "      <th>3</th>\n",
       "      <td>Studio medico via anapo parco nemorense</td>\n",
       "      <td>Studio medico avviato, composto da tre studi c...</td>\n",
       "      <td>Trieste / Somalia / Salario</td>\n",
       "      <td>200</td>\n",
       "      <td>17 October, 20:22</td>\n",
       "      <td>https://www.kijiji.it/annunci/affitto/roma-ann...</td>\n",
       "      <td>3</td>\n",
       "      <td>{}</td>\n",
       "    </tr>\n",
       "    <tr>\n",
       "      <th>4</th>\n",
       "      <td>Cerco: Appartamento per donna lavoratrice refe...</td>\n",
       "      <td>Donna lavoratrice, non residente, con reddito ...</td>\n",
       "      <td>Roma</td>\n",
       "      <td>Contatta l'utente</td>\n",
       "      <td>17 October, 19:39</td>\n",
       "      <td>https://www.kijiji.it/annunci/affitto/roma-ann...</td>\n",
       "      <td>4</td>\n",
       "      <td>{}</td>\n",
       "    </tr>\n",
       "  </tbody>\n",
       "</table>\n",
       "</div>"
      ],
      "text/plain": [
       "                                               Title  \\\n",
       "0  Studio accessoriato vicino metro A Furio Camillo    \n",
       "1  Negozio 169Mq per laboratorio, ufficio, studio...   \n",
       "2                       Negozio in tiburtina centro    \n",
       "3           Studio medico via anapo parco nemorense    \n",
       "4  Cerco: Appartamento per donna lavoratrice refe...   \n",
       "\n",
       "                                   Short Description  \\\n",
       "0  Affitto studio a professionisti preferibilment...   \n",
       "1  Privato affitta negozio 169 mq, al piano terra...   \n",
       "2  Negozio c/1 roma tiburtina centro via eugenio ...   \n",
       "3  Studio medico avviato, composto da tre studi c...   \n",
       "4  Donna lavoratrice, non residente, con reddito ...   \n",
       "\n",
       "                       Location        Price (Euro)            Timestamp  \\\n",
       "0                         Roma                 450    12 ottobre, 11:32    \n",
       "1        Prenestino / Casilino               1.700    12 ottobre, 08:45    \n",
       "2        Tiburtino / Collatino               6.000    17 October, 21:20    \n",
       "3  Trieste / Somalia / Salario                 200    17 October, 20:22    \n",
       "4                         Roma   Contatta l'utente    17 October, 19:39    \n",
       "\n",
       "                                             Url Adv  doc_id  \\\n",
       "0  https://www.kijiji.it/annunci/affitto/roma-ann...       0   \n",
       "1  https://www.kijiji.it/annunci/affitto/roma-ann...       1   \n",
       "2  https://www.kijiji.it/annunci/affitto/roma-ann...       2   \n",
       "3  https://www.kijiji.it/annunci/affitto/roma-ann...       3   \n",
       "4  https://www.kijiji.it/annunci/affitto/roma-ann...       4   \n",
       "\n",
       "                                        similar_docs  \n",
       "0  {0, 2561, 1153, 647, 1417, 2187, 779, 2319, 10...  \n",
       "1  {1, 1154, 2562, 648, 1418, 266, 780, 2188, 232...  \n",
       "2                                                 {}  \n",
       "3                                                 {}  \n",
       "4                                                 {}  "
      ]
     },
     "execution_count": 33,
     "metadata": {},
     "output_type": "execute_result"
    }
   ],
   "source": [
    "# find all the matching doc_id for a given doc_id\n",
    "def find_matching_doc(doc_id):\n",
    "    return [couple for couple in lsh_similar_itemset if doc_id in couple]\n",
    "\n",
    "\n",
    "def get_matching_doc_set(doc_id):\n",
    "    sim_docs = find_matching_doc(doc_id)\n",
    "    sim_docs_set = set()\n",
    "    for couple in sim_docs:\n",
    "        sim_docs_set.add(couple[0])\n",
    "        sim_docs_set.add(couple[1])\n",
    "        \n",
    "    return sim_docs_set\n",
    "\n",
    "# add a new column to the dataset containing the set of similar documents\n",
    "dataset['similar_docs'] = dataset['doc_id'].apply(get_matching_doc_set)\n",
    "\n",
    "dataset.head()"
   ]
  },
  {
   "cell_type": "code",
   "execution_count": 31,
   "metadata": {},
   "outputs": [
    {
     "name": "stdout",
     "output_type": "stream",
     "text": [
      "<class 'pandas.core.frame.DataFrame'>\n",
      "Int64Index: 2822 entries, 0 to 2609\n",
      "Data columns (total 7 columns):\n",
      " #   Column             Non-Null Count  Dtype \n",
      "---  ------             --------------  ----- \n",
      " 0   Title              2822 non-null   object\n",
      " 1   Short Description  2822 non-null   object\n",
      " 2   Location           2822 non-null   object\n",
      " 3   Price (Euro)       2822 non-null   object\n",
      " 4   Timestamp          2822 non-null   object\n",
      " 5   Url Adv            2822 non-null   object\n",
      " 6   doc_id             2822 non-null   object\n",
      "dtypes: object(7)\n",
      "memory usage: 176.4+ KB\n"
     ]
    }
   ],
   "source": [
    "new_dataset.info()"
   ]
  },
  {
   "cell_type": "code",
   "execution_count": null,
   "metadata": {},
   "outputs": [],
   "source": []
  }
 ],
 "metadata": {
  "kernelspec": {
   "display_name": "Python 3",
   "language": "python",
   "name": "python3"
  },
  "language_info": {
   "codemirror_mode": {
    "name": "ipython",
    "version": 3
   },
   "file_extension": ".py",
   "mimetype": "text/x-python",
   "name": "python",
   "nbconvert_exporter": "python",
   "pygments_lexer": "ipython3",
   "version": "3.11.4"
  }
 },
 "nbformat": 4,
 "nbformat_minor": 2
}
